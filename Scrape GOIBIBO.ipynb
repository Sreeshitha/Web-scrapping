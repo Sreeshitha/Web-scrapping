{
 "cells": [
  {
   "cell_type": "code",
   "execution_count": 1,
   "id": "5d57347c",
   "metadata": {},
   "outputs": [],
   "source": [
    "import requests\n",
    "from bs4 import BeautifulSoup\n",
    "import pandas as pd"
   ]
  },
  {
   "cell_type": "markdown",
   "id": "851fa7aa",
   "metadata": {},
   "source": [
    "## Scrapping Text data"
   ]
  },
  {
   "cell_type": "markdown",
   "id": "2325f4aa",
   "metadata": {},
   "source": [
    "## 1 Download pages using the Python requests- Crawl"
   ]
  },
  {
   "cell_type": "code",
   "execution_count": 72,
   "id": "a4a3542b",
   "metadata": {},
   "outputs": [],
   "source": [
    "# Target url to scrap\n",
    "url = 'https://www.goibibo.com/hotels/hotels-in-shimla-ct/'"
   ]
  },
  {
   "cell_type": "code",
   "execution_count": 73,
   "id": "c36341ca",
   "metadata": {},
   "outputs": [],
   "source": [
    "# Send request to download the data\n",
    "response = requests.request('GET',url)"
   ]
  },
  {
   "cell_type": "code",
   "execution_count": 74,
   "id": "626ace2a",
   "metadata": {},
   "outputs": [
    {
     "data": {
      "text/plain": [
       "200"
      ]
     },
     "execution_count": 74,
     "metadata": {},
     "output_type": "execute_result"
    }
   ],
   "source": [
    "response.status_code"
   ]
  },
  {
   "cell_type": "markdown",
   "id": "769f00e9",
   "metadata": {},
   "source": [
    "##  2 Parsing a page with BeautifulSoup"
   ]
  },
  {
   "cell_type": "code",
   "execution_count": 75,
   "id": "417aa0f4",
   "metadata": {},
   "outputs": [],
   "source": [
    "# Parse the downloaded data using BeautifulSoup\n",
    "data = BeautifulSoup(response.text, features = 'html.parser')\n",
    "# print(data)"
   ]
  },
  {
   "cell_type": "code",
   "execution_count": 76,
   "id": "cd5d1209",
   "metadata": {},
   "outputs": [],
   "source": [
    "# Details of particular hotel are on different card. So next step is to filter this card data from complete source code\n",
    "\n",
    "# In the web page --> hover the mouse on the required element in the card - Right click --> Inspect --> To get the source code of that particular element in the card\n"
   ]
  },
  {
   "cell_type": "code",
   "execution_count": 82,
   "id": "a111bad9",
   "metadata": {},
   "outputs": [],
   "source": [
    "# Find all the sections with specified class name\n",
    "\n",
    "# The class names of all cards would be the same.\n",
    "# We can get the list of those cards by just passing the tag name (<div\\>) and attributes like <class> tag with its name."
   ]
  },
  {
   "cell_type": "code",
   "execution_count": 83,
   "id": "336bfb1c",
   "metadata": {},
   "outputs": [],
   "source": [
    "#  data.find_all('p')[0].get_text()"
   ]
  },
  {
   "cell_type": "code",
   "execution_count": 87,
   "id": "e8b4afcf",
   "metadata": {},
   "outputs": [],
   "source": [
    "hotel_card = data.find_all('div', attrs = {'class','HotelCardstyles__WrapperSectionMetaDiv-sc-1s80tyk-3 fLGqLz'})\n",
    "# print(hotel_card)"
   ]
  },
  {
   "cell_type": "code",
   "execution_count": 85,
   "id": "fc395fcd",
   "metadata": {},
   "outputs": [
    {
     "data": {
      "text/plain": [
       "30"
      ]
     },
     "execution_count": 85,
     "metadata": {},
     "output_type": "execute_result"
    }
   ],
   "source": [
    "len(hotel_card)"
   ]
  },
  {
   "cell_type": "code",
   "execution_count": 124,
   "id": "0800c5ab",
   "metadata": {},
   "outputs": [
    {
     "name": "stdout",
     "output_type": "stream",
     "text": [
      "Snow Valley Resorts , 3868 , 2315 Ratings , Premium Room (Centrally Heated)\n",
      "Marina- Shimla First Designer Boutique Hotel , 10800 , 894 Ratings , Deluxe Room\n",
      "Meena Bagh Shimla , 8479 , 56 Ratings , Two Room Unit - Khaddus Den\n",
      "Rocky Knob (Explore World Art in One Property) , 3137 , 196 Ratings , Rocky Room\n",
      "Radisson Hotel Shimla , 12000 , 514 Ratings , Superior Room with Free Breakfast\n",
      "Hotel Baljees Regency , 3495 , 1339 Ratings , Premium Room\n",
      "Hotel Dhroov , 5955 , 441 Ratings , Premium Room(Valley View)\n",
      "Hotel Willow Banks , 6883 , 853 Ratings , Deluxe Room - Mall road facing\n",
      "Hotel Shingar , 2727 , 1127 Ratings , Deluxe Room\n",
      "OYO 1706 Hotel The Alpine Heritage Residency , 2269 , 167 Ratings , Classic (2X)\n",
      "Clarkes Hotel, A grand heritage hotel since 1898 , 7500 , 48 Ratings , Superior Room\n",
      "Goldenfern Resort Shimla , 3703 , 79 Ratings , Classic Room Non View\n",
      "Hotel Combermere , 7717 , 917 Ratings , Luxury Room\n",
      "The Oberoi Cecil , 12000 , 64 Ratings , Deluxe Room\n",
      "Sanobar The Grand White , 2396 , 106 Ratings , Premium Room\n",
      "Honeymoon Inn , 6000 , 598 Ratings , Super Deluxe Room with Free Breakfast\n",
      "Frosty Woods Home Stay , 1800 , 17 Ratings , Standard Room\n",
      "Shivanchal Homestay , 739 , 183 Ratings , Deluxe with private bathrooms\n",
      "Marley Villa , 11000 , 3 Ratings , 3 BHK with living area and lawn\n",
      "Kalawati Homes Vacation Rentals , 5550 , 1 Ratings , 6 BHK - Family Home with Only Accommodation\n",
      "Snow Lotus , 3049 , 179 Ratings , Deluxe Room ( Non Valley View/Non AC)\n",
      "Ashiana Clarks INN Shimla , 7320 , 279 Ratings , Semi Deluxe Room\n",
      "Hotel Sukh Sagar , 1855 , 134 Ratings , Deluxe Room\n",
      "Hotel Surya , 3399 , 2048 Ratings , Deluxe Room\n",
      "Woodville Palace , 4488 , 70 Ratings , Deluxe Room\n",
      "Bridge View Regency Mall road , 3428 , 1033 Ratings , Deluxe Room\n",
      "Hotel Hill Top , 1253 , 378 Ratings , Standard Room\n",
      "The Zion Hotel , 5098 , 270 Ratings , Standard room\n",
      "Royale Retreat , 5684 , 143 Ratings , Royal Deluxe\n",
      "Hotel Cosmos , 3246 , 151 Ratings , Deluxe\n"
     ]
    }
   ],
   "source": [
    "# Source code of hotel cards\n",
    "# Get hotel name and price from hotel cards\n",
    "\n",
    "for card in hotel_card:\n",
    "    #get the hotel name , found in 'a' tag , only one tag if this kind for each card \n",
    "    hotel_name  = card.find('a')\n",
    "    \n",
    "    #get the room price , found in p tag , \n",
    "    price = card.find('p',attrs = {'class','HotelCardstyles__CurrentPrice-sc-1s80tyk-28 inUyrJ'})\n",
    "    \n",
    "    rating = card.find('span', attrs = {'class','ReviewAndRatingsstyles__TotalReviewCountText-sc-1nxmeoo-4 ckCNHU'})\n",
    "    \n",
    "    room_type = card.find('span',attrs = {'class','HotelCardstyles__RoomTypeTextWrapper-sc-1s80tyk-16 jYuA-DB'})\n",
    "    \n",
    "   # offer = card.find('div',attrs = {'class','OfferTagstyles__PercentageOffWrapperDiv-sc-16zl30v-10 bqOixo'})\n",
    "    \n",
    "    print(hotel_name.text,',', price.text,',', rating.text,',', room_type.text)"
   ]
  },
  {
   "cell_type": "code",
   "execution_count": 129,
   "id": "735a7ff1",
   "metadata": {},
   "outputs": [],
   "source": [
    "# place_card = data.find_all('div', attrs = {'color','#2274E0'})\n",
    "# len(place_card)"
   ]
  },
  {
   "cell_type": "markdown",
   "id": "2494d429",
   "metadata": {},
   "source": [
    "## 3 Store the data"
   ]
  },
  {
   "cell_type": "code",
   "execution_count": 109,
   "id": "ffc1f16a",
   "metadata": {},
   "outputs": [],
   "source": [
    "# The final step is to store the extracted data in the CSV file. Here, for each card, we will extract the Hotel Name,Price,\n",
    "# ratings, room_type  and store it in a Python dictionary. We will then finally append it to a list."
   ]
  },
  {
   "cell_type": "code",
   "execution_count": 123,
   "id": "6556f084",
   "metadata": {},
   "outputs": [],
   "source": [
    "# create a list to store the data\n",
    "scrapped_data = []\n",
    "\n",
    "for card in hotel_card:\n",
    "    # Initialize the dictionary\n",
    "    details = {}\n",
    "    \n",
    "    hotel_name  = card.find('a')\n",
    "        \n",
    "    price = card.find('p',attrs = {'class','HotelCardstyles__CurrentPrice-sc-1s80tyk-28 inUyrJ'})\n",
    "    \n",
    "    rating = card.find('span', attrs = {'class','ReviewAndRatingsstyles__TotalReviewCountText-sc-1nxmeoo-4 ckCNHU'})\n",
    "    \n",
    "    room_type = card.find('span',attrs = {'class','HotelCardstyles__RoomTypeTextWrapper-sc-1s80tyk-16 jYuA-DB'})\n",
    "    \n",
    "    # Add data to dictionary\n",
    "    details['hotel_name'] = hotel_name.text\n",
    "    details['price'] = price.text\n",
    "    details['rating'] = rating.text\n",
    "    details['room_type'] = room_type.text\n",
    "    \n",
    "    # Append the scrapped data to list\n",
    "    scrapped_data.append(details)  #This is the list of dictionaries , adding dictionaries to the list \n",
    "    \n",
    "    df = pd.DataFrame.from_dict(scrapped_data)\n",
    "    \n",
    "    # Save the scrapped data as CSV file\n",
    "    df.to_csv('hotels_data.csv',index =False, sep =',')\n",
    "   "
   ]
  },
  {
   "cell_type": "code",
   "execution_count": 133,
   "id": "174db98d",
   "metadata": {},
   "outputs": [
    {
     "data": {
      "text/html": [
       "<div>\n",
       "<style scoped>\n",
       "    .dataframe tbody tr th:only-of-type {\n",
       "        vertical-align: middle;\n",
       "    }\n",
       "\n",
       "    .dataframe tbody tr th {\n",
       "        vertical-align: top;\n",
       "    }\n",
       "\n",
       "    .dataframe thead th {\n",
       "        text-align: right;\n",
       "    }\n",
       "</style>\n",
       "<table border=\"1\" class=\"dataframe\">\n",
       "  <thead>\n",
       "    <tr style=\"text-align: right;\">\n",
       "      <th></th>\n",
       "      <th>hotel_name</th>\n",
       "      <th>price</th>\n",
       "      <th>rating</th>\n",
       "      <th>room_type</th>\n",
       "    </tr>\n",
       "  </thead>\n",
       "  <tbody>\n",
       "    <tr>\n",
       "      <th>0</th>\n",
       "      <td>Snow Valley Resorts</td>\n",
       "      <td>3868</td>\n",
       "      <td>2315 Ratings</td>\n",
       "      <td>Premium Room (Centrally Heated)</td>\n",
       "    </tr>\n",
       "    <tr>\n",
       "      <th>1</th>\n",
       "      <td>Marina- Shimla First Designer Boutique Hotel</td>\n",
       "      <td>10800</td>\n",
       "      <td>894 Ratings</td>\n",
       "      <td>Deluxe Room</td>\n",
       "    </tr>\n",
       "    <tr>\n",
       "      <th>2</th>\n",
       "      <td>Meena Bagh Shimla</td>\n",
       "      <td>8479</td>\n",
       "      <td>56 Ratings</td>\n",
       "      <td>Two Room Unit - Khaddus Den</td>\n",
       "    </tr>\n",
       "    <tr>\n",
       "      <th>3</th>\n",
       "      <td>Rocky Knob (Explore World Art in One Property)</td>\n",
       "      <td>3137</td>\n",
       "      <td>196 Ratings</td>\n",
       "      <td>Rocky Room</td>\n",
       "    </tr>\n",
       "    <tr>\n",
       "      <th>4</th>\n",
       "      <td>Radisson Hotel Shimla</td>\n",
       "      <td>12000</td>\n",
       "      <td>514 Ratings</td>\n",
       "      <td>Superior Room with Free Breakfast</td>\n",
       "    </tr>\n",
       "  </tbody>\n",
       "</table>\n",
       "</div>"
      ],
      "text/plain": [
       "                                       hotel_name  price        rating  \\\n",
       "0                             Snow Valley Resorts   3868  2315 Ratings   \n",
       "1    Marina- Shimla First Designer Boutique Hotel  10800   894 Ratings   \n",
       "2                               Meena Bagh Shimla   8479    56 Ratings   \n",
       "3  Rocky Knob (Explore World Art in One Property)   3137   196 Ratings   \n",
       "4                           Radisson Hotel Shimla  12000   514 Ratings   \n",
       "\n",
       "                           room_type  \n",
       "0    Premium Room (Centrally Heated)  \n",
       "1                        Deluxe Room  \n",
       "2        Two Room Unit - Khaddus Den  \n",
       "3                         Rocky Room  \n",
       "4  Superior Room with Free Breakfast  "
      ]
     },
     "execution_count": 133,
     "metadata": {},
     "output_type": "execute_result"
    }
   ],
   "source": [
    "df = pd.read_csv('hotels_data.csv')\n",
    "df.head()"
   ]
  },
  {
   "cell_type": "markdown",
   "id": "f1630b4d",
   "metadata": {},
   "source": [
    "## Scrapping Image - Find all images with image(img) tag"
   ]
  },
  {
   "cell_type": "code",
   "execution_count": 32,
   "id": "c073520b",
   "metadata": {},
   "outputs": [],
   "source": [
    "url = 'https://www.goibibo.com/hotels/hotels-in-shimla-ct/'"
   ]
  },
  {
   "cell_type": "code",
   "execution_count": 33,
   "id": "e32f714c",
   "metadata": {},
   "outputs": [],
   "source": [
    "response= requests.request('GET',url)"
   ]
  },
  {
   "cell_type": "code",
   "execution_count": 34,
   "id": "df989f19",
   "metadata": {},
   "outputs": [
    {
     "data": {
      "text/plain": [
       "200"
      ]
     },
     "execution_count": 34,
     "metadata": {},
     "output_type": "execute_result"
    }
   ],
   "source": [
    "response.status_code"
   ]
  },
  {
   "cell_type": "code",
   "execution_count": 35,
   "id": "4f21eb9d",
   "metadata": {},
   "outputs": [],
   "source": [
    "data = BeautifulSoup(response.text, features = 'html.parser')"
   ]
  },
  {
   "cell_type": "code",
   "execution_count": 64,
   "id": "9ac243cc",
   "metadata": {},
   "outputs": [
    {
     "data": {
      "text/plain": [
       "[<meta content=\"https://cdn1.goibibo.com/voy_ing/t_g/1de95162354211e5bbab001ec9b85d13.jfif\" itemprop=\"image\"/>,\n",
       " <meta content=\"https://cdn1.goibibo.com/voy_ing/t_g/e1566082499a11e689d90022195573b9.jpg\" itemprop=\"image\"/>,\n",
       " <meta content=\"https://cdn1.goibibo.com/voy_ing/t_g/73cf03ba08bc11e896ce0a9df65c8753.jpg\" itemprop=\"image\"/>,\n",
       " <meta content=\"https://cdn1.goibibo.com/voy_ing/t_g/b137aec64c0011eaaaa40242ac110002.jpg\" itemprop=\"image\"/>,\n",
       " <meta content=\"https://cdn1.goibibo.com/voy_ing/t_g/844a789ee6f911e7ab8902ed4d4e40dc.jpg\" itemprop=\"image\"/>,\n",
       " <meta content=\"https://cdn1.goibibo.com/voy_ing/t_g/3eef9f52c87811e8a99002fc98a94198.jpg\" itemprop=\"image\"/>,\n",
       " <meta content=\"https://cdn1.goibibo.com/voy_mmt/t_g/htl-imgs/200701120646243660-d326698cb60311e689b002bf5ac07431.jpg\" itemprop=\"image\"/>,\n",
       " <meta content=\"https://cdn1.goibibo.com/voy_ing/t_g/94b8771c018911e8b4f902755708f0b3.jfif\" itemprop=\"image\"/>,\n",
       " <meta content=\"https://cdn1.goibibo.com/voy_mmt/t_g/htl-imgs/201810312049042531-38ef306c142311e99aae0242ac110003.jpg\" itemprop=\"image\"/>,\n",
       " <meta content=\"https://cdn1.goibibo.com/voy_mmt/t_g/htl-imgs/200701131553348226-06708104c3fa11e980d90242ac110002.jpg\" itemprop=\"image\"/>,\n",
       " <meta content=\"https://cdn1.goibibo.com/voy_mmt/t_g/htl-imgs/201711301634567287-c4f2338ce66b11e991bf0242ac110002.jpg\" itemprop=\"image\"/>,\n",
       " <meta content=\"https://cdn1.goibibo.com/voy_mmt/t_g/htl-imgs/20070124170346216-167a294c2d4011e5b10b0022195573b9.jpg\" itemprop=\"image\"/>,\n",
       " <meta content=\"https://cdn1.goibibo.com/voy_mmt/t_g/htl-imgs/200701121106345886-c3ae59803fb711e88b030a1a5053b91a.jpg\" itemprop=\"image\"/>,\n",
       " <meta content=\"https://cdn1.goibibo.com/voy_ing/t_g/16de4b2aa8a511eba3f6025f77df004f.jpg\" itemprop=\"image\"/>,\n",
       " <meta content=\"https://cdn1.goibibo.com/voy_mmt/t_g/htl-imgs/201211191632507621-2e31dce0b78e11e6be240a209fbd0127.jpg\" itemprop=\"image\"/>,\n",
       " <meta content=\"https://cdn1.goibibo.com/voy_mmt/t_g/htl-imgs/20170124165124284-cfd1497e1a8a11eb97ad0242ac110004.jpg\" itemprop=\"image\"/>,\n",
       " <meta content=\"https://cdn1.goibibo.com/voy_ing/t_g/dee6c0286cbc11ea90330242ac110004.jpg\" itemprop=\"image\"/>,\n",
       " <meta content=\"https://cdn1.goibibo.com/voy_ing/t_g/a026c4ee565111e6b11e001ec9b85d13.jpg\" itemprop=\"image\"/>,\n",
       " <meta content=\"https://cdn1.goibibo.com/voy_ing/t_g/371a4c6aba3511e8b24d0aff9b53f7fe.jfif\" itemprop=\"image\"/>,\n",
       " <meta content=\"https://cdn1.goibibo.com/voy_ing/t_g/f0f791683ea211eab1430242ac110003.jpg\" itemprop=\"image\"/>,\n",
       " <meta content=\"https://cdn1.goibibo.com/voy_ing/t_g/31d6a3b07b2c11eb95100242ac110004.jpg\" itemprop=\"image\"/>,\n",
       " <meta content=\"https://cdn1.goibibo.com/voy_ing/t_g/35dde170547811eaa7570242ac110003.jfif\" itemprop=\"image\"/>,\n",
       " <meta content=\"https://cdn1.goibibo.com/voy_ing/t_g/263f0a8c236f11e883fe025f77df004f.jpg\" itemprop=\"image\"/>,\n",
       " <meta content=\"https://cdn1.goibibo.com/voy_ing/t_g/42e5e872994a11e7bb0c0224510f5e5b.jpg\" itemprop=\"image\"/>,\n",
       " <meta content=\"https://cdn1.goibibo.com/voy_ing/t_g/2e4143fef79e11e8a6b20242ac110002.jpg\" itemprop=\"image\"/>,\n",
       " <meta content=\"https://cdn1.goibibo.com/voy_ing/t_g/29333b58f6f711e8943a0242ac110002.jfif\" itemprop=\"image\"/>,\n",
       " <meta content=\"https://cdn1.goibibo.com/voy_ing/t_g/127d51e6c2dc11e798200a4cef95d023.jpg\" itemprop=\"image\"/>,\n",
       " <meta content=\"https://cdn1.goibibo.com/voy_ing/t_g/352d37e4285a11e9ab6e0242ac110003.jpg\" itemprop=\"image\"/>,\n",
       " <meta content=\"https://cdn1.goibibo.com/voy_ing/t_g/6dc3b15a6b8211e7869a0a4cef95d023.jpg\" itemprop=\"image\"/>,\n",
       " <meta content=\"https://cdn1.goibibo.com/voy_mmt/t_g/htl-imgs/201604201326202553-cdf99506199711ea9c920242ac110005.jpg\" itemprop=\"image\"/>]"
      ]
     },
     "execution_count": 64,
     "metadata": {},
     "output_type": "execute_result"
    }
   ],
   "source": [
    "# Find all images with image tag\n",
    "# The <img> tag is used to embed an image in an HTML page\n",
    "\n",
    "# The <img> tag has two required attributes:\n",
    "\n",
    "    # src - Specifies the path to the image\n",
    "    # alt - Specifies an alternate text for the image, if the image for some reason cannot be displayed\n",
    "\n",
    "images = data.find_all('img',src = True)\n",
    "\n",
    "\n",
    "img_links = data.find_all(itemprop = 'image')\n",
    "img_links\n"
   ]
  },
  {
   "cell_type": "code",
   "execution_count": 65,
   "id": "857e3997",
   "metadata": {
    "scrolled": false
   },
   "outputs": [
    {
     "name": "stdout",
     "output_type": "stream",
     "text": [
      "https://cdn1.goibibo.com/voy_ing/t_g/e1566082499a11e689d90022195573b9.jpg\n",
      "https://cdn1.goibibo.com/voy_ing/t_g/73cf03ba08bc11e896ce0a9df65c8753.jpg\n",
      "https://cdn1.goibibo.com/voy_ing/t_g/b137aec64c0011eaaaa40242ac110002.jpg\n",
      "https://cdn1.goibibo.com/voy_ing/t_g/844a789ee6f911e7ab8902ed4d4e40dc.jpg\n",
      "https://cdn1.goibibo.com/voy_ing/t_g/3eef9f52c87811e8a99002fc98a94198.jpg\n",
      "https://cdn1.goibibo.com/voy_mmt/t_g/htl-imgs/200701120646243660-d326698cb60311e689b002bf5ac07431.jpg\n",
      "https://cdn1.goibibo.com/voy_mmt/t_g/htl-imgs/201810312049042531-38ef306c142311e99aae0242ac110003.jpg\n",
      "https://cdn1.goibibo.com/voy_mmt/t_g/htl-imgs/200701131553348226-06708104c3fa11e980d90242ac110002.jpg\n",
      "https://cdn1.goibibo.com/voy_mmt/t_g/htl-imgs/201711301634567287-c4f2338ce66b11e991bf0242ac110002.jpg\n",
      "https://cdn1.goibibo.com/voy_mmt/t_g/htl-imgs/20070124170346216-167a294c2d4011e5b10b0022195573b9.jpg\n",
      "https://cdn1.goibibo.com/voy_mmt/t_g/htl-imgs/200701121106345886-c3ae59803fb711e88b030a1a5053b91a.jpg\n",
      "https://cdn1.goibibo.com/voy_ing/t_g/16de4b2aa8a511eba3f6025f77df004f.jpg\n",
      "https://cdn1.goibibo.com/voy_mmt/t_g/htl-imgs/201211191632507621-2e31dce0b78e11e6be240a209fbd0127.jpg\n",
      "https://cdn1.goibibo.com/voy_mmt/t_g/htl-imgs/20170124165124284-cfd1497e1a8a11eb97ad0242ac110004.jpg\n",
      "https://cdn1.goibibo.com/voy_ing/t_g/dee6c0286cbc11ea90330242ac110004.jpg\n",
      "https://cdn1.goibibo.com/voy_ing/t_g/a026c4ee565111e6b11e001ec9b85d13.jpg\n",
      "https://cdn1.goibibo.com/voy_ing/t_g/f0f791683ea211eab1430242ac110003.jpg\n",
      "https://cdn1.goibibo.com/voy_ing/t_g/31d6a3b07b2c11eb95100242ac110004.jpg\n",
      "https://cdn1.goibibo.com/voy_ing/t_g/263f0a8c236f11e883fe025f77df004f.jpg\n",
      "https://cdn1.goibibo.com/voy_ing/t_g/42e5e872994a11e7bb0c0224510f5e5b.jpg\n",
      "https://cdn1.goibibo.com/voy_ing/t_g/2e4143fef79e11e8a6b20242ac110002.jpg\n",
      "https://cdn1.goibibo.com/voy_ing/t_g/127d51e6c2dc11e798200a4cef95d023.jpg\n",
      "https://cdn1.goibibo.com/voy_ing/t_g/352d37e4285a11e9ab6e0242ac110003.jpg\n",
      "https://cdn1.goibibo.com/voy_ing/t_g/6dc3b15a6b8211e7869a0a4cef95d023.jpg\n",
      "https://cdn1.goibibo.com/voy_mmt/t_g/htl-imgs/201604201326202553-cdf99506199711ea9c920242ac110005.jpg\n"
     ]
    }
   ],
   "source": [
    "# For urls\n",
    "\n",
    "# From all the images tags, select only the src part. Also notice that the images are in .jpg format.So will select only that\n",
    "\n",
    "img_src1 = [x['content']   for x in img_links]\n",
    "\n",
    "# Select only .jpg format image\n",
    "img_src = [x   for x in img_src1 if x.endswith('.jpg')]\n",
    "\n",
    "for img in img_src:\n",
    "    print(img)\n",
    "   "
   ]
  },
  {
   "cell_type": "code",
   "execution_count": 66,
   "id": "e41df879",
   "metadata": {},
   "outputs": [],
   "source": [
    "# Now we have list of image urls. Now request the image content and write it in a file\n",
    "# Make sure you open the file 'wb'(write binary) form\n",
    "\n",
    "img_count = 1\n",
    "\n",
    "for img in img_src:\n",
    "    with open('img_' + str(img_count) + '.jpg', 'wb') as f: # wb - write binary\n",
    "        res = requests.get(img)\n",
    "        f.write(res.content)\n",
    "    img_count = img_count + 1\n",
    "        \n",
    "# Images are saved in the respective folder"
   ]
  },
  {
   "cell_type": "code",
   "execution_count": null,
   "id": "adf58896",
   "metadata": {},
   "outputs": [],
   "source": []
  }
 ],
 "metadata": {
  "kernelspec": {
   "display_name": "Python 3",
   "language": "python",
   "name": "python3"
  },
  "language_info": {
   "codemirror_mode": {
    "name": "ipython",
    "version": 3
   },
   "file_extension": ".py",
   "mimetype": "text/x-python",
   "name": "python",
   "nbconvert_exporter": "python",
   "pygments_lexer": "ipython3",
   "version": "3.8.8"
  }
 },
 "nbformat": 4,
 "nbformat_minor": 5
}
