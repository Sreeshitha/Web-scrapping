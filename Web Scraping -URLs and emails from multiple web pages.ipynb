{
 "cells": [
  {
   "cell_type": "code",
   "execution_count": 64,
   "id": "2b647552",
   "metadata": {},
   "outputs": [],
   "source": [
    "from bs4 import BeautifulSoup\n",
    "import pandas as pd\n",
    "import  urllib.request"
   ]
  },
  {
   "cell_type": "code",
   "execution_count": 65,
   "id": "99adae6f",
   "metadata": {},
   "outputs": [],
   "source": [
    "# Single web-page scrapping can be done using some commands but for multiple pages it is not easy , have to write the script\n",
    "# Scrap website URLs and email IDs \n",
    "# Marketing Teams scrap Email IDs in bulk "
   ]
  },
  {
   "cell_type": "code",
   "execution_count": 66,
   "id": "cc24ad77",
   "metadata": {},
   "outputs": [],
   "source": [
    "# url to scrape\n",
    "\n",
    "url = 'https://dot.gov.in/useful-links'"
   ]
  },
  {
   "cell_type": "code",
   "execution_count": 67,
   "id": "717fe87c",
   "metadata": {},
   "outputs": [],
   "source": [
    "# query the website and return the html to the variable 'data'"
   ]
  },
  {
   "cell_type": "code",
   "execution_count": 68,
   "id": "12b4243e",
   "metadata": {},
   "outputs": [],
   "source": [
    "response = urllib.request.urlopen(url)"
   ]
  },
  {
   "cell_type": "code",
   "execution_count": 69,
   "id": "d6521e9d",
   "metadata": {},
   "outputs": [
    {
     "name": "stdout",
     "output_type": "stream",
     "text": [
      "Page Scrapped\n"
     ]
    }
   ],
   "source": [
    "data = BeautifulSoup(response, features ='html.parser')\n",
    "print('Page Scrapped')"
   ]
  },
  {
   "cell_type": "code",
   "execution_count": 70,
   "id": "dfa0bc1b",
   "metadata": {},
   "outputs": [
    {
     "name": "stdout",
     "output_type": "stream",
     "text": [
      "TITLE OF THE PAGE\n",
      "Links To useful websites | Department of Telecommunications | Ministry of Communication | Government of India\n"
     ]
    }
   ],
   "source": [
    "print('TITLE OF THE PAGE')\n",
    "print(data.title.string)"
   ]
  },
  {
   "cell_type": "markdown",
   "id": "1d8b5bda",
   "metadata": {},
   "source": [
    "### print all the URLs in the webpage"
   ]
  },
  {
   "cell_type": "code",
   "execution_count": 71,
   "id": "a06d84c1",
   "metadata": {},
   "outputs": [
    {
     "name": "stdout",
     "output_type": "stream",
     "text": [
      "Total no:of urls in the webpage:  173\n"
     ]
    }
   ],
   "source": [
    "all_urls = data.find_all('a')\n",
    "print('Total no:of urls in the webpage: ',len(all_urls))"
   ]
  },
  {
   "cell_type": "code",
   "execution_count": 72,
   "id": "f0a1ba7a",
   "metadata": {},
   "outputs": [
    {
     "name": "stdout",
     "output_type": "stream",
     "text": [
      "https://india.gov.in/hi/\n",
      "https://india.gov.in/\n",
      "#skipCont\n",
      "javascript:void(0);\n",
      "javascript:void(0);\n",
      "javascript:void(0);\n",
      "javascript:void(0);\n",
      "javascript:void(0);\n",
      "javascript:void(0);\n",
      "javascript:void(0);\n",
      "javascript:void(0);\n",
      "https://www.facebook.com/DoTIndia/\n",
      "https://twitter.com/dot_India\n",
      "https://www.youtube.com/channel/UCCNc_OLa1-_knGHASA1PLkQ\n",
      "https://dot.gov.in/site-map\n",
      "javascript:;\n",
      "https://dot.gov.in/hi/useful-links\n",
      "/\n",
      "javascript:void(0);\n",
      "https://swachhbharat.mygov.in/\n",
      "/\n",
      "#\n",
      "#\n",
      "/minister/mocshri-ravi-shankar-prasad\n",
      "/minister/mosshri-dhotre-sanjay-shamrao\n",
      "/minister/list-former-ministers\n",
      "/chairpersons-desk\n",
      "/profile\n",
      "/vision-mission\n",
      "/objectives\n",
      "/citizen-charter\n",
      "/telecom-glance\n",
      "/organizational-structure\n",
      "#\n",
      "/act-rules\n",
      "#\n",
      "/national-broadband-mission\n",
      "/relatedlinks/national-digital-communications-policy-2018\n",
      "/national-telecom-policy-1994\n",
      "/new-telecom-policy-1999\n",
      "/relatedlinks/addendum-ntp-1999\n",
      "/broadband-policy-2004\n",
      "/relatedlinks/amendment-broadband-policy-2004-0\n",
      "/relatedlinks/national-telecom-policy-2012\n",
      "/dot-pmapmi-policy\n",
      "#\n",
      "#\n",
      "https://tdsat.gov.in\n",
      "http://www.trai.gov.in/\n",
      "#\n",
      "/relatedlinks/director-general-telecom\n",
      "http://www.tec.gov.in\n",
      "http://usof.gov.in/usof-cms/home.jsp\n",
      "http://cgca.gov.in\n",
      "#\n",
      "/wireless-monitoring-organisation\n",
      "https://nccs.gov.in/nccs/index_org.html\n",
      "#\n",
      "/cca\n",
      "#\n",
      "http://www.cdot.in/\n",
      "#\n",
      "http://www.ntiprit.gov.in\n",
      "http://www.nicf.gov.in/\n",
      "/public-sector-undertakings\n",
      "http://www.bsnl.co.in/\n",
      "http://www.mtnl.net.in/\n",
      "http://www.bbnl.nic.in/\n",
      "https://www.tcil-india.com/\n",
      "http://www.itiltd-india.com/\n",
      "#\n",
      "/access-services\n",
      "/carrier-services\n",
      "/dataservices/data-services\n",
      "/unified-licnse\n",
      "#\n",
      "/licensing-finance-assessment-0\n",
      "/licensing-finance-public\n",
      "/spectrum\n",
      "/relatedlinks/wireless-planning-finance-division\n",
      "#\n",
      "/circular-and-notifications/2319\n",
      "/building-worksbw-electrical-0\n",
      "/international-cooperation-ic\n",
      "/networks-technologies-cell\n",
      "/international-relations-ir\n",
      "/vigilance-division\n",
      "/documents/foreign-investment-policy-and-promotion-fipp\n",
      "#\n",
      "/procurement-projections\n",
      "/dot-hq-0\n",
      "/cdot\n",
      "/bsnl\n",
      "/mtnl\n",
      "/bbnl\n",
      "/tcil\n",
      "/iti\n",
      "/fdi-policy-telecom\n",
      "/relatedlinks/fdi-inflow\n",
      "/investment-facilitation-centre\n",
      "/telecom-equipment-manufacturing\n",
      "/directory\n",
      "http://evisitors.nic.in/public/Home.aspx\n",
      "#\n",
      "#\n",
      "/swacchh-bharat-mission\n",
      "/parliament-list\n",
      "/spectrum-management/2458\n",
      "/gazette-notification\n",
      "/press-released\n",
      "/help\n",
      "/archives\n",
      "/glossary\n",
      "/videos\n",
      "/\n",
      "None\n",
      "http://meity.gov.in/\n",
      "http://www.nvsp.in\n",
      "http://www.uidai.gov.in\n",
      "http://www.tec.gov.in/ntiprit/\n",
      "http://www.indiapost-taskforce.in\n",
      "http://www.bbnl.nic.in\n",
      "https://india.gov.in/national-data-sharing-and-accessibility-policy-ndsap\n",
      "http://www.pensionersportal.gov.in\n",
      "http://www.investindia.gov.in\n",
      "http://www.airindia.com\n",
      "http://indiaimage.nic.in\n",
      "http://www.india.gov.in\n",
      "http://www.parliamentofindia.nic.in\n",
      "http://www.bharatnirman.gov.in\n",
      "http://www.cca.gov.in\n",
      "http://www.tdsat.nic.in\n",
      "http://www.aptsec.org\n",
      "http://www.mtnltrustline.com/\n",
      "http://www.trai.gov.in\n",
      "http://www.itu.int/en/pages/default.aspx\n",
      "http://www.cdot.in/\n",
      "http://wpc.dot.gov.in/index.aspx\n",
      "http://www.bsnl.co.in\n",
      "http://www.itiltd-india.com\n",
      "http://www.vsnl.net.in\n",
      "http://www.mtnl.net.in\n",
      "http://www.tcil-india.com\n",
      "http://www.sancharnet.in\n",
      "http://goidirectory.nic.in\n",
      "http://www.finmin.nic.in\n",
      "http://meaindia.nic.in/\n",
      "http://www.rbi.org.in\n",
      "http://www.sebi.gov.in/\n",
      "http://www.ciionline.org\n",
      "http://www.assocham.org\n",
      "http://www.bisnetindia.com\n",
      "http://www.coai.com\n",
      "http://www.sarkaritel.com/\n",
      "http://www.estates.nic.in/\n",
      "http://www.telecomepc.in\n",
      "http://www.auspi.in\n",
      "http://www.telecomepc.in/\n",
      "http://www.openoffice.org/\n",
      "http://commerce.gov.in/\n",
      "https://www.gari.info/index.cfm\n",
      "/websites-policies\n",
      "/help\n",
      "/working-hours\n",
      "/contact-us\n",
      "/download\n",
      "/circular-and-notifications/2322\n",
      "/web-information-manager\n",
      "/feedback\n",
      "/visitor-analytics\n",
      "http://cmf.gov.in/\n",
      "http://www.nic.in/\n",
      "https://dot.gov.in/sites/default/files/2019%2001%2009%20STQC%20Website%20Quality%20Certificate%20of%20DoT%20Website.pdf\n"
     ]
    }
   ],
   "source": [
    "for url in all_urls:\n",
    "    print(url.get('href')) # # Get the exact link from the hyperlink reference "
   ]
  },
  {
   "cell_type": "markdown",
   "id": "3c78ecb2",
   "metadata": {},
   "source": [
    "###  Scraping both url and emails"
   ]
  },
  {
   "cell_type": "code",
   "execution_count": 73,
   "id": "b6382349",
   "metadata": {},
   "outputs": [],
   "source": [
    "url2 ='https://dlca.logcluster.org/display/public/DLCA/4.1+Nepal+Government+Contact+List'"
   ]
  },
  {
   "cell_type": "code",
   "execution_count": 74,
   "id": "5cbacca7",
   "metadata": {},
   "outputs": [],
   "source": [
    "response = urllib.request.urlopen(url2)"
   ]
  },
  {
   "cell_type": "code",
   "execution_count": 75,
   "id": "6f83a96c",
   "metadata": {},
   "outputs": [],
   "source": [
    "data = BeautifulSoup(response, features ='html.parser')"
   ]
  },
  {
   "cell_type": "code",
   "execution_count": 76,
   "id": "9f1242a5",
   "metadata": {},
   "outputs": [
    {
     "name": "stdout",
     "output_type": "stream",
     "text": [
      "Title of Page\n",
      "4.1 Nepal Government Contact List - Logistics Capacity Assessment - Digital Logistics Capacity Assessments\n"
     ]
    }
   ],
   "source": [
    "print('Title of Page')\n",
    "print(data.title.string)"
   ]
  },
  {
   "cell_type": "markdown",
   "id": "4d33527c",
   "metadata": {},
   "source": [
    "### Find all urls"
   ]
  },
  {
   "cell_type": "code",
   "execution_count": 77,
   "id": "df16a143",
   "metadata": {},
   "outputs": [
    {
     "name": "stdout",
     "output_type": "stream",
     "text": [
      "Total no:of links in the page:  108\n"
     ]
    }
   ],
   "source": [
    "links = data.find_all('a')\n",
    "print('Total no:of links in the page: ',len(links))"
   ]
  },
  {
   "cell_type": "code",
   "execution_count": 78,
   "id": "21b94af4",
   "metadata": {},
   "outputs": [
    {
     "name": "stdout",
     "output_type": "stream",
     "text": [
      "#title-heading\n",
      "#breadcrumbs\n",
      "#header-menu-bar\n",
      "#navigation\n",
      "#quick-search-query\n",
      "/\n",
      "/spacedirectory/view.action\n",
      "#\n",
      "https://docs.atlassian.com/confluence/docs-614/\n",
      "#\n",
      "/dashboard/configurerssfeed.action\n",
      "https://confluence.atlassian.com/display/DOC/Confluence+6.14+Release+Notes\n",
      "#\n",
      "/aboutconfluencepage.action\n",
      "/login.action?os_destination=%2Fdisplay%2Fpublic%2FDLCA%2F4.1%2BNepal%2BGovernment%2BContact%2BList\n",
      "/display/DLCA/LCA+Homepage\n",
      "/display/DLCA/LCA+Homepage\n",
      "None\n",
      "/display/DLCA/FAQ+for+LCAs+and+Rapid+LCAs\n",
      "/display/DLCA/Generic+LCA+Templates\n",
      "/display/DLCA/Generic+Rapid+LCA+Templates\n",
      "/display/DLCA/Training+Scenarios\n",
      "None\n",
      "/collector/pages.action?key=DLCA\n",
      "None\n",
      "#\n",
      "#\n",
      "/pages/viewpageattachments.action?pageId=10133130\n",
      "/pages/viewpreviousversions.action?pageId=10133130\n",
      "/pages/viewinfo.action?pageId=10133130\n",
      "#\n",
      "/pages/reorderpages.action?key=DLCA&openId=10133130#selectedPageInHierarchy\n",
      "/plugins/viewsource/viewpagesrc.action?pageId=10133130\n",
      "/spaces/flyingpdf/pdfpageexport.action?pageId=10133130\n",
      "/exportword?pageId=10133130\n",
      "#\n",
      "/collector/pages.action?key=DLCA\n",
      "/display/DLCA/LCA+Homepage\n",
      "/display/DLCA/Nepal\n",
      "/display/DLCA/4+Nepal+Contact+Lists\n",
      "#page-banner-end\n",
      "\n",
      "\n",
      "\n",
      "\n",
      "#page-banner-start\n",
      "/display/DLCA/4.1+Nepal+Government+Contact+List\n",
      "#page-metadata-end\n",
      "    /display/~jessica.cochran\n",
      "\n",
      "    /display/~joseantonio.carino\n",
      "\n",
      "/pages/diffpagesbyversion.action?pageId=10133130&selectedPageVersions=12&selectedPageVersions=13\n",
      "#page-metadata-start\n",
      "mailto:info@opmcm.gov.np\n",
      "https://www.opmcm.gov.np/\n",
      "mailto:info@mod.gov.np\n",
      "https://mod.gov.np/\n",
      "mailto:control@moha.gov.np\n",
      "mailto:gunaso@moha.gov.np\n",
      "http://www.moha.gov.np/\n",
      "mailto:info@moald.gov.np\n",
      "tel:1618-070-777779\n",
      "https://moald.gov.np/\n",
      "mailto:info@mohp.gov.np\n",
      "https://mohp.gov.np/\n",
      "mailto:info@mofa.gov.np\n",
      "https://mofa.gov.np/\n",
      "mailto:info@moe.gov.np\n",
      "http://moe.gov.np/\n",
      "mailto:info@moewri.gov.np\n",
      "http://moewri.gov.np/\n",
      "mailto:info@mopit.gov.np\n",
      "http://www.mopit.gov.np/\n",
      "mailto:info@moless.gov.np\n",
      "https://moless.gov.np/\n",
      "mailto:infolaw@moljpa.gov.np\n",
      "http://www.moljpa.gov.np/\n",
      "mailto:info@mofaga.gov.np\n",
      "https://mofaga.gov.np/\n",
      "mailto:info@moics.gov.np\n",
      "tel:9851234400\n",
      "https://moics.gov.np/\n",
      "mailto:info@mowcsc.gov.np\n",
      "mailto:media@mowcsc.gov.np\n",
      "https://mowcsc.gov.np/\n",
      "mailto:info@mofe.gov.np\n",
      "http://mofe.gov.np/\n",
      "mailto:moev@mof.gov.np\n",
      "mailto:ukhatri@nepal.gov.np\n",
      "https://mof.gov.np/\n",
      "mailto:info@moud.gov.np\n",
      "http://moud.gov.np/np\n",
      "mailto:info@tourism.gov.np\n",
      "https://www.tourism.gov.np/\n",
      "mailto:info@moys.gov.np\n",
      "http://moys.gov.np/\n",
      "mailto:info@mocit.gov.np\n",
      "https://mocit.gov.np/\n",
      "mailto:info@mowss.gov.np\n",
      "mailto:mail@mowss.gov.np\n",
      "http://mowss.gov.np/\n",
      "mailto:info@molcpa.gov.np\n",
      "https://www.molcpa.gov.np/\n",
      "/label/DLCA/government\n",
      "http://www.atlassian.com/c/conf/11460\n",
      "http://www.atlassian.com/software/confluence\n",
      "https://support.atlassian.com/help/confluence\n",
      "http://www.atlassian.com/about/connected.jsp?s_kwcid=Confluence-stayintouch\n",
      "http://www.atlassian.com/\n"
     ]
    }
   ],
   "source": [
    "# Print all the urls\n",
    "for url in links:\n",
    "    print(url.get('href'))"
   ]
  },
  {
   "cell_type": "markdown",
   "id": "3e74de1d",
   "metadata": {},
   "source": [
    "### Get all Emails from scrapped urls"
   ]
  },
  {
   "cell_type": "code",
   "execution_count": 79,
   "id": "f9814c81",
   "metadata": {},
   "outputs": [],
   "source": [
    "emails = [] # Empty list to store emails"
   ]
  },
  {
   "cell_type": "code",
   "execution_count": 80,
   "id": "1b45eb37",
   "metadata": {},
   "outputs": [
    {
     "name": "stdout",
     "output_type": "stream",
     "text": [
      "['mailto:info@opmcm.gov.np', 'mailto:info@mod.gov.np', 'mailto:control@moha.gov.np', 'mailto:gunaso@moha.gov.np', 'mailto:info@moald.gov.np', 'mailto:info@mohp.gov.np', 'mailto:info@mofa.gov.np', 'mailto:info@moe.gov.np', 'mailto:info@moewri.gov.np', 'mailto:info@mopit.gov.np', 'mailto:info@moless.gov.np', 'mailto:infolaw@moljpa.gov.np', 'mailto:info@mofaga.gov.np', 'mailto:info@moics.gov.np', 'mailto:info@mowcsc.gov.np', 'mailto:media@mowcsc.gov.np', 'mailto:info@mofe.gov.np', 'mailto:moev@mof.gov.np', 'mailto:ukhatri@nepal.gov.np', 'mailto:info@moud.gov.np', 'mailto:info@tourism.gov.np', 'mailto:info@moys.gov.np', 'mailto:info@mocit.gov.np', 'mailto:info@mowss.gov.np', 'mailto:mail@mowss.gov.np', 'mailto:info@molcpa.gov.np']\n"
     ]
    }
   ],
   "source": [
    "for url in links:\n",
    "    if(str(url.get('href')).find('@')>0):\n",
    "        emails.append(url.get('href'))\n",
    "        \n",
    "print(emails)"
   ]
  },
  {
   "cell_type": "code",
   "execution_count": 81,
   "id": "1d95931d",
   "metadata": {},
   "outputs": [
    {
     "name": "stdout",
     "output_type": "stream",
     "text": [
      "Total no : of emails:  26\n"
     ]
    }
   ],
   "source": [
    "print('Total no : of emails: ',len(emails))"
   ]
  },
  {
   "cell_type": "code",
   "execution_count": 82,
   "id": "95e22c8d",
   "metadata": {},
   "outputs": [
    {
     "name": "stdout",
     "output_type": "stream",
     "text": [
      "Last 5 emails are:  ['mailto:info@moys.gov.np', 'mailto:info@mocit.gov.np', 'mailto:info@mowss.gov.np', 'mailto:mail@mowss.gov.np']\n"
     ]
    }
   ],
   "source": [
    "print('Last 5 emails are: ', emails[-5:-1])"
   ]
  },
  {
   "cell_type": "code",
   "execution_count": null,
   "id": "c4c008cd",
   "metadata": {},
   "outputs": [],
   "source": []
  }
 ],
 "metadata": {
  "kernelspec": {
   "display_name": "Python 3",
   "language": "python",
   "name": "python3"
  },
  "language_info": {
   "codemirror_mode": {
    "name": "ipython",
    "version": 3
   },
   "file_extension": ".py",
   "mimetype": "text/x-python",
   "name": "python",
   "nbconvert_exporter": "python",
   "pygments_lexer": "ipython3",
   "version": "3.8.8"
  }
 },
 "nbformat": 4,
 "nbformat_minor": 5
}
